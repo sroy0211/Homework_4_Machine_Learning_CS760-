{
  "nbformat": 4,
  "nbformat_minor": 0,
  "metadata": {
    "colab": {
      "provenance": []
    },
    "kernelspec": {
      "name": "python3",
      "display_name": "Python 3"
    },
    "language_info": {
      "name": "python"
    }
  },
  "cells": [
    {
      "cell_type": "code",
      "execution_count": 1,
      "metadata": {
        "colab": {
          "base_uri": "https://localhost:8080/"
        },
        "id": "0PSeVm_u8xEI",
        "outputId": "4cd26759-b2b0-46ec-b666-f22b22316aeb"
      },
      "outputs": [
        {
          "output_type": "stream",
          "name": "stdout",
          "text": [
            "Mounted at /content/drive\n"
          ]
        }
      ],
      "source": [
        "# Importing the Data from the Google Drive\n",
        "\n",
        "from google.colab import drive\n",
        "drive.mount('/content/drive',force_remount=True)"
      ]
    },
    {
      "cell_type": "code",
      "source": [
        "# Importing the libraries\n",
        "\n",
        "import os\n",
        "import numpy as np\n",
        "from collections import Counter\n",
        "import math"
      ],
      "metadata": {
        "id": "9gHQC9L8_b6o"
      },
      "execution_count": 2,
      "outputs": []
    },
    {
      "cell_type": "code",
      "source": [
        "# Extracting the labels and data from the folder\n",
        "\n",
        "data = []\n",
        "labels = []\n",
        "\n",
        "for filename in os.listdir('/content/drive/MyDrive/languageID/'):\n",
        "    if filename.endswith('.txt'):\n",
        "        with open(os.path.join('/content/drive/MyDrive/languageID/', filename), 'r', encoding='utf-8') as file:\n",
        "            content = file.read()\n",
        "            language = filename[0]\n",
        "            data.append(content)\n",
        "            labels.append(language)"
      ],
      "metadata": {
        "id": "2aeOI0WY7_2b"
      },
      "execution_count": 4,
      "outputs": []
    },
    {
      "cell_type": "code",
      "source": [
        "class_parameters = {}\n",
        "\n",
        "vocabulary = \"abcdefghijklmnopqrstuvwxyz \"\n",
        "\n",
        "for c in set(labels):\n",
        "\n",
        "    # Filtering the documents for the current class\n",
        "\n",
        "    class_documents = [data[i] for i in range(len(data)) if labels[i] == c]\n",
        "\n",
        "    # Initializing class-specific parameters\n",
        "\n",
        "    class_parameters[c] = np.zeros(len(vocabulary))\n",
        "\n",
        "    # Counting the occurrences for each character in class\n",
        "\n",
        "    for doc in class_documents:\n",
        "        for char in doc:\n",
        "            if char in vocabulary:\n",
        "                index = vocabulary.index(char)\n",
        "                class_parameters[c][index] += 1\n",
        "\n",
        "conditional_probabilities = {}"
      ],
      "metadata": {
        "id": "N3tSBIELIx7b"
      },
      "execution_count": 7,
      "outputs": []
    },
    {
      "cell_type": "code",
      "source": [],
      "metadata": {
        "id": "zEf6DGeYKYhh"
      },
      "execution_count": 8,
      "outputs": []
    }
  ]
}