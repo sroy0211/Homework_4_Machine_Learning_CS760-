{
  "nbformat": 4,
  "nbformat_minor": 0,
  "metadata": {
    "colab": {
      "provenance": []
    },
    "kernelspec": {
      "name": "python3",
      "display_name": "Python 3"
    },
    "language_info": {
      "name": "python"
    }
  },
  "cells": [
    {
      "cell_type": "code",
      "execution_count": 1,
      "metadata": {
        "colab": {
          "base_uri": "https://localhost:8080/"
        },
        "id": "0PSeVm_u8xEI",
        "outputId": "010cef5f-02a1-4a14-a74a-16cc2880b1af"
      },
      "outputs": [
        {
          "output_type": "stream",
          "name": "stdout",
          "text": [
            "Mounted at /content/drive\n"
          ]
        }
      ],
      "source": [
        "# Importing the Data from the Google Drive\n",
        "\n",
        "from google.colab import drive\n",
        "drive.mount('/content/drive',force_remount=True)"
      ]
    },
    {
      "cell_type": "code",
      "source": [
        "# Importing the libraries\n",
        "\n",
        "import os\n",
        "import numpy as np\n",
        "from collections import Counter\n",
        "import math"
      ],
      "metadata": {
        "id": "9gHQC9L8_b6o"
      },
      "execution_count": 2,
      "outputs": []
    },
    {
      "cell_type": "code",
      "source": [
        "# Defining the test documents for evaluation\n",
        "\n",
        "test_documents = ['e10.txt', 'e11.txt', 'e12.txt', 'e13.txt', 'e14.txt', 'e15.txt', 'e16.txt', 'e17.txt', 'e18.txt', 'e19.txt',\n",
        "                 'j10.txt', 'j11.txt', 'j12.txt', 'j13.txt', 'j14.txt', 'j15.txt', 'j16.txt', 'j17.txt', 'j18.txt', 'j19.txt',\n",
        "                 's10.txt', 's11.txt', 's12.txt', 's13.txt', 's14.txt', 's15.txt', 's16.txt', 's17.txt', 's18.txt', 's19.txt']\n",
        "\n",
        "# Initializing the confusion matrix\n",
        "\n",
        "confusion_matrix = {\n",
        "    'e': {'e': 0, 'j': 0, 's': 0},\n",
        "    'j': {'e': 0, 'j': 0, 's': 0},\n",
        "    's': {'e': 0, 'j': 0, 's': 0},\n",
        "}\n"
      ],
      "metadata": {
        "id": "zEf6DGeYKYhh"
      },
      "execution_count": 3,
      "outputs": []
    },
    {
      "cell_type": "code",
      "source": [
        "# Looping through test documents\n",
        "\n",
        "for test_document in test_documents:\n",
        "\n",
        "    # Getting true class label from filename\n",
        "\n",
        "    true_label = test_document[0]\n",
        "\n",
        "    # Loading and processing the test document\n",
        "\n",
        "    with open(os.path.join('/content/drive/MyDrive/languageID/', test_document), 'r', encoding='utf-8') as file:\n",
        "        test_content = file.read()\n"
      ],
      "metadata": {
        "id": "8P4eWU5uZhWj"
      },
      "execution_count": 4,
      "outputs": []
    },
    {
      "cell_type": "code",
      "source": [],
      "metadata": {
        "id": "4RX0Rgd2Zh5-"
      },
      "execution_count": null,
      "outputs": []
    }
  ]
}