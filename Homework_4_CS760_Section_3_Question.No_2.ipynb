{
  "nbformat": 4,
  "nbformat_minor": 0,
  "metadata": {
    "colab": {
      "provenance": []
    },
    "kernelspec": {
      "name": "python3",
      "display_name": "Python 3"
    },
    "language_info": {
      "name": "python"
    }
  },
  "cells": [
    {
      "cell_type": "code",
      "execution_count": 1,
      "metadata": {
        "colab": {
          "base_uri": "https://localhost:8080/"
        },
        "id": "0PSeVm_u8xEI",
        "outputId": "9cf1e64b-f1e9-4ffb-cdc3-147558ebec3d"
      },
      "outputs": [
        {
          "output_type": "stream",
          "name": "stdout",
          "text": [
            "Mounted at /content/drive\n"
          ]
        }
      ],
      "source": [
        "# Importing the Data from the Google Drive\n",
        "\n",
        "from google.colab import drive\n",
        "drive.mount('/content/drive',force_remount=True)"
      ]
    },
    {
      "cell_type": "code",
      "source": [
        "# Importing the libraries\n",
        "\n",
        "import os\n",
        "import numpy as np\n",
        "from collections import Counter\n",
        "import math"
      ],
      "metadata": {
        "id": "9gHQC9L8_b6o"
      },
      "execution_count": 2,
      "outputs": []
    },
    {
      "cell_type": "code",
      "source": [
        "data = \" \"\n",
        "\n",
        "# Extracting the files from the Google Drive for three languages with filenames having specific formats.\n",
        "\n",
        "for i in range(10): # As we have to only extract 9 files for each language from the languageID folder.\n",
        "\n",
        "  filename = f\"{i}.txt\"\n",
        "\n",
        "  with open(os.path.join('/content/drive/MyDrive/languageID/','e' + filename), 'r', encoding='utf-8') as file:\n",
        "    document_english = file.read().lower()\n",
        "    document_english = ''.join([c for c in document_english if c.isalpha() or c.isspace()])\n",
        "    english_data = data + document_english"
      ],
      "metadata": {
        "id": "Bp4RSN5QD93N"
      },
      "execution_count": 3,
      "outputs": []
    },
    {
      "cell_type": "code",
      "source": [
        "# Initializing additive smoothing parameter\n",
        "\n",
        "additive_smoothing_parameter = 0.5"
      ],
      "metadata": {
        "id": "qb-LdudHNWwC"
      },
      "execution_count": 4,
      "outputs": []
    },
    {
      "cell_type": "code",
      "source": [
        "# Calculation of class conditional probabilities (multinomial parameter) for English Language\n",
        "\n",
        "total_count_english = len(english_data)\n",
        "vocabulary_size_english = 27\n",
        "\n",
        "# Class conditional probabilities are calculated on the basis on the frequency of individual characters for English language.\n",
        "\n",
        "english_class_conditional_probabilities = {}\n",
        "\n",
        "for char_english in 'abcdefghijklmnopqrstuvwxyz ':\n",
        "  char_count_english = english_data.count(char_english)\n",
        "  probability_english = (char_count_english + additive_smoothing_parameter) / (total_count_english + additive_smoothing_parameter * vocabulary_size_english)\n",
        "  english_class_conditional_probabilities[char_english] = probability_english"
      ],
      "metadata": {
        "id": "syQ3d4jOJEQJ"
      },
      "execution_count": 5,
      "outputs": []
    },
    {
      "cell_type": "code",
      "source": [
        "# Print the Class Conditional Probabilities for the English Language\n",
        "\n",
        "print(\"Class Conditional Probabilities for English Language:\", english_class_conditional_probabilities)"
      ],
      "metadata": {
        "colab": {
          "base_uri": "https://localhost:8080/"
        },
        "id": "cGMtQI3FPSyJ",
        "outputId": "3c0f59a2-332d-467a-86eb-84d585423fdd"
      },
      "execution_count": 6,
      "outputs": [
        {
          "output_type": "stream",
          "name": "stdout",
          "text": [
            "Class Conditional Probabilities for English Language: {'a': 0.06292195517148258, 'b': 0.01431271941668917, 'c': 0.028895490143127193, 'd': 0.025114771806643264, 'e': 0.09748852281933568, 'f': 0.014852822036186876, 'g': 0.01917364299216851, 'h': 0.03753713205509047, 'i': 0.05860113421550094, 'j': 0.0024304617877396704, 'k': 0.0035106670267350797, 'l': 0.024574669187145556, 'm': 0.020793950850661626, 'n': 0.0661625708884688, 'o': 0.055900621118012424, 'p': 0.01647312989467999, 'q': 0.0013502565487442614, 'r': 0.04617877396705374, 's': 0.06886308398595734, 't': 0.0764245206589252, 'u': 0.03051579800162031, 'v': 0.007831487982716717, 'w': 0.014852822036186876, 'x': 0.0008101539292465569, 'y': 0.014852822036186876, 'z': 0.0008101539292465569, ' ': 0.17688360788549826}\n"
          ]
        }
      ]
    },
    {
      "cell_type": "code",
      "source": [],
      "metadata": {
        "id": "RCu3c3FQWYm8"
      },
      "execution_count": null,
      "outputs": []
    }
  ]
}