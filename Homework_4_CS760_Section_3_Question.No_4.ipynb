{
  "nbformat": 4,
  "nbformat_minor": 0,
  "metadata": {
    "colab": {
      "provenance": []
    },
    "kernelspec": {
      "name": "python3",
      "display_name": "Python 3"
    },
    "language_info": {
      "name": "python"
    }
  },
  "cells": [
    {
      "cell_type": "code",
      "execution_count": 1,
      "metadata": {
        "colab": {
          "base_uri": "https://localhost:8080/"
        },
        "id": "0PSeVm_u8xEI",
        "outputId": "b91401a3-6d8a-4369-bb97-1428fd6f7f2d"
      },
      "outputs": [
        {
          "output_type": "stream",
          "name": "stdout",
          "text": [
            "Mounted at /content/drive\n"
          ]
        }
      ],
      "source": [
        "# Importing the Data from the Google Drive\n",
        "\n",
        "from google.colab import drive\n",
        "drive.mount('/content/drive',force_remount=True)"
      ]
    },
    {
      "cell_type": "code",
      "source": [
        "# Importing the libraries\n",
        "\n",
        "import os\n",
        "import numpy as np\n",
        "from collections import Counter\n",
        "import math"
      ],
      "metadata": {
        "id": "9gHQC9L8_b6o"
      },
      "execution_count": 2,
      "outputs": []
    },
    {
      "cell_type": "code",
      "source": [
        "# Reading the e10.txt as a test document x\n",
        "\n",
        "test_doc_x = '/content/drive/MyDrive/languageID/e10.txt'\n",
        "\n",
        "with open(test_doc_x, 'r') as file:\n",
        "    x = file.read()\n",
        "\n",
        "# Creating a bag-of-words vectors for the test document x\n",
        "\n",
        "vocabulary = \"abcdefghijklmnopqrstuvwxyz \"\n",
        "\n",
        "test_vector = np.zeros(len(vocabulary))\n",
        "\n",
        "for char in x:\n",
        "    if char in vocabulary:\n",
        "      test_vector[vocabulary.index(char)] =  test_vector[vocabulary.index(char)] + 1"
      ],
      "metadata": {
        "id": "2aeOI0WY7_2b"
      },
      "execution_count": 3,
      "outputs": []
    },
    {
      "cell_type": "code",
      "source": [
        "# Printing the bag-of-words vector for the test document x\n",
        "\n",
        "print(\"Bag-of-words vector for the test document x:\")\n",
        "print(test_vector)"
      ],
      "metadata": {
        "colab": {
          "base_uri": "https://localhost:8080/"
        },
        "id": "RCu3c3FQWYm8",
        "outputId": "03e63e90-bffc-454e-d94b-01d10fe1c076"
      },
      "execution_count": 4,
      "outputs": [
        {
          "output_type": "stream",
          "name": "stdout",
          "text": [
            "Bag-of-words vector for the test document x:\n",
            "[164.  32.  53.  57. 311.  55.  51. 140. 140.   3.   6.  85.  64. 139.\n",
            " 182.  53.   3. 141. 186. 225.  65.  31.  47.   4.  38.   2. 498.]\n"
          ]
        }
      ]
    },
    {
      "cell_type": "code",
      "source": [],
      "metadata": {
        "id": "PfzmEhIj97Fu"
      },
      "execution_count": null,
      "outputs": []
    }
  ]
}