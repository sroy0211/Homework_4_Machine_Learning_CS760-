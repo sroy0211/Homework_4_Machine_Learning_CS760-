{
  "nbformat": 4,
  "nbformat_minor": 0,
  "metadata": {
    "colab": {
      "provenance": []
    },
    "kernelspec": {
      "name": "python3",
      "display_name": "Python 3"
    },
    "language_info": {
      "name": "python"
    }
  },
  "cells": [
    {
      "cell_type": "code",
      "execution_count": 1,
      "metadata": {
        "colab": {
          "base_uri": "https://localhost:8080/"
        },
        "id": "0PSeVm_u8xEI",
        "outputId": "8395899f-ab4a-4b41-b8ec-f08e82bf53d3"
      },
      "outputs": [
        {
          "output_type": "stream",
          "name": "stdout",
          "text": [
            "Mounted at /content/drive\n"
          ]
        }
      ],
      "source": [
        "# Importing the Data from the Google Drive\n",
        "\n",
        "from google.colab import drive\n",
        "drive.mount('/content/drive',force_remount=True)"
      ]
    },
    {
      "cell_type": "code",
      "source": [
        "# Importing the libraries\n",
        "\n",
        "import os\n",
        "import numpy as np\n",
        "from collections import Counter\n",
        "import math"
      ],
      "metadata": {
        "id": "9gHQC9L8_b6o"
      },
      "execution_count": 2,
      "outputs": []
    },
    {
      "cell_type": "code",
      "source": [
        "data = \" \"\n",
        "\n",
        "# Extracting the files from the Google Drive for three languages with filenames having specific formats.\n",
        "\n",
        "for i in range(10): # As we have to only extract 9 files for each language from the languageID folder.\n",
        "\n",
        "  filename = f\"{i}.txt\"\n",
        "\n",
        "  with open(os.path.join('/content/drive/MyDrive/languageID/','j' + filename), 'r', encoding='utf-8') as file:\n",
        "    document_japanese = file.read().lower()\n",
        "    document_japanese = ''.join([c for c in document_japanese if c.isalpha() or c.isspace()])\n",
        "    japanese_data = data + document_japanese\n",
        "\n",
        "  with open(os.path.join('/content/drive/MyDrive/languageID/','s' + filename), 'r', encoding='utf-8') as file:\n",
        "    document_spanish= file.read().lower()\n",
        "    document_spanish = ''.join([c for c in document_spanish if c.isalpha() or c.isspace()])\n",
        "    spanish_data = data + document_spanish"
      ],
      "metadata": {
        "id": "Bp4RSN5QD93N"
      },
      "execution_count": 3,
      "outputs": []
    },
    {
      "cell_type": "code",
      "source": [
        "# Initializing additive smoothing parameter\n",
        "\n",
        "additive_smoothing_parameter = 0.5"
      ],
      "metadata": {
        "id": "qb-LdudHNWwC"
      },
      "execution_count": 4,
      "outputs": []
    },
    {
      "cell_type": "code",
      "source": [
        "# Calculation of class conditional probabilities (multinomial parameter) for English Language\n",
        "\n",
        "total_count_japanese = len(japanese_data)\n",
        "total_count_spanish = len(spanish_data)\n",
        "vocabulary_size_spanish = 27\n",
        "vocabulary_size_japanese = 27\n",
        "\n",
        "# Class conditional probabilities are calculated on the basis on the frequency of individual characters for English language.\n",
        "\n",
        "japanese_class_conditional_probabilities = {}\n",
        "spanish_class_conditional_probabilities = {}\n",
        "\n",
        "for char_spanish in 'abcdefghijklmnopqrstuvwxyz ':\n",
        "  char_count_spanish = spanish_data.count(char_spanish)\n",
        "  probability_spanish = (char_count_spanish + additive_smoothing_parameter) / (total_count_spanish + additive_smoothing_parameter * vocabulary_size_spanish)\n",
        "  spanish_class_conditional_probabilities[char_spanish] = probability_spanish\n",
        "\n",
        "for char_japanese in 'abcdefghijklmnopqrstuvwxyz ':\n",
        "  char_count_japanese = japanese_data.count(char_japanese)\n",
        "  probability_japanese = (char_count_japanese + additive_smoothing_parameter) / (total_count_japanese + additive_smoothing_parameter * vocabulary_size_japanese)\n",
        "  japanese_class_conditional_probabilities[char_japanese] = probability_japanese"
      ],
      "metadata": {
        "id": "syQ3d4jOJEQJ"
      },
      "execution_count": 5,
      "outputs": []
    },
    {
      "cell_type": "code",
      "source": [
        "# Print the Class Conditional Probabilities for the English Language\n",
        "\n",
        "print(\"Class Conditional Probabilities for Spanish Language:\", spanish_class_conditional_probabilities)\n",
        "print(\"Class Conditional Probabilities for Japanese Language:\", japanese_class_conditional_probabilities)"
      ],
      "metadata": {
        "colab": {
          "base_uri": "https://localhost:8080/"
        },
        "id": "cGMtQI3FPSyJ",
        "outputId": "b5767423-aec2-4b2d-a976-5fa5b5726a9b"
      },
      "execution_count": 6,
      "outputs": [
        {
          "output_type": "stream",
          "name": "stdout",
          "text": [
            "Class Conditional Probabilities for Spanish Language: {'a': 0.0983666061705989, 'b': 0.0054446460980036296, 'c': 0.035208711433756805, 'd': 0.037386569872958256, 'e': 0.10925589836660617, 'f': 0.007622504537205082, 'g': 0.009800362976406534, 'h': 0.002540834845735027, 'i': 0.05117967332123412, 'j': 0.009074410163339383, 'k': 0.001088929219600726, 'l': 0.054083484573502726, 'm': 0.024319419237749548, 'n': 0.04900181488203267, 'o': 0.06497277676950998, 'p': 0.02722323049001815, 'q': 0.009800362976406534, 'r': 0.05335753176043557, 's': 0.06569872958257714, 't': 0.0279491833030853, 'u': 0.037386569872958256, 'v': 0.008348457350272231, 'w': 0.0003629764065335753, 'x': 0.003992740471869328, 'y': 0.012704174228675136, 'z': 0.003992740471869328, ' ': 0.1695099818511797}\n",
            "Class Conditional Probabilities for Japanese Language: {'a': 0.13195201744820065, 'b': 0.0069065794256633955, 'c': 0.002544529262086514, 'd': 0.024354780079970918, 'e': 0.054162122864412944, 'f': 0.002544529262086514, 'g': 0.013449654671028717, 'h': 0.021446746637586334, 'i': 0.07888040712468193, 'j': 0.0003635041802980734, 'k': 0.05779716466739367, 'l': 0.0003635041802980734, 'm': 0.03525990548891312, 'n': 0.05343511450381679, 'o': 0.09051254089422028, 'p': 0.0018175209014903672, 'q': 0.0003635041802980734, 'r': 0.043256997455470736, 's': 0.03162486368593239, 't': 0.04471101417666303, 'u': 0.0628862231915667, 'v': 0.0003635041802980734, 'w': 0.024354780079970918, 'x': 0.0003635041802980734, 'y': 0.014903671392221011, 'z': 0.003271537622682661, ' ': 0.1108687749909124}\n"
          ]
        }
      ]
    },
    {
      "cell_type": "code",
      "source": [],
      "metadata": {
        "id": "RCu3c3FQWYm8"
      },
      "execution_count": null,
      "outputs": []
    }
  ]
}