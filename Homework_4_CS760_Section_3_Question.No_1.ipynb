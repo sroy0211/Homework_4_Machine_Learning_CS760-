{
  "nbformat": 4,
  "nbformat_minor": 0,
  "metadata": {
    "colab": {
      "provenance": []
    },
    "kernelspec": {
      "name": "python3",
      "display_name": "Python 3"
    },
    "language_info": {
      "name": "python"
    }
  },
  "cells": [
    {
      "cell_type": "code",
      "execution_count": null,
      "metadata": {
        "colab": {
          "base_uri": "https://localhost:8080/"
        },
        "id": "0PSeVm_u8xEI",
        "outputId": "8aa8e570-c512-4609-8696-6d8b0074f6f7"
      },
      "outputs": [
        {
          "output_type": "stream",
          "name": "stdout",
          "text": [
            "Mounted at /content/drive\n"
          ]
        }
      ],
      "source": [
        "# Importing the Data from the Google Drive\n",
        "\n",
        "from google.colab import drive\n",
        "drive.mount('/content/drive',force_remount=True)"
      ]
    },
    {
      "cell_type": "code",
      "source": [
        "# Importing the libraries\n",
        "\n",
        "import os\n",
        "import numpy as np\n",
        "from collections import Counter\n",
        "import math"
      ],
      "metadata": {
        "id": "9gHQC9L8_b6o"
      },
      "execution_count": null,
      "outputs": []
    },
    {
      "cell_type": "code",
      "source": [
        "data = \" \"\n",
        "\n",
        "# Extracting the files from the Google Drive for three languages with filenames having specific formats.\n",
        "\n",
        "for i in range(10): # As we have to only extract 9 files for each language from the languageID folder.\n",
        "\n",
        "  filename = f\"{i}.txt\"\n",
        "\n",
        "  with open(os.path.join('/content/drive/MyDrive/languageID/','e' + filename), 'r', encoding='utf-8') as file:\n",
        "    document_english = file.read().lower()\n",
        "    document_english = ''.join([c for c in document_english if c.isalpha() or c.isspace()])\n",
        "    english_data = data + document_english\n",
        "\n",
        "  with open(os.path.join('/content/drive/MyDrive/languageID/','j' + filename), 'r', encoding='utf-8') as file:\n",
        "    document_japanese = file.read().lower()\n",
        "    document_japanese = ''.join([c for c in document_japanese if c.isalpha() or c.isspace()])\n",
        "    japanese_data = data + document_japanese\n",
        "\n",
        "  with open(os.path.join('/content/drive/MyDrive/languageID/','s' + filename), 'r', encoding='utf-8') as file:\n",
        "    document_spanish= file.read().lower()\n",
        "    document_spanish = ''.join([c for c in document_spanish if c.isalpha() or c.isspace()])\n",
        "    spanish_data = data + document_spanish"
      ],
      "metadata": {
        "id": "Bp4RSN5QD93N"
      },
      "execution_count": null,
      "outputs": []
    },
    {
      "cell_type": "code",
      "source": [
        "# Initializing additive smoothing parameter\n",
        "\n",
        "additive_smoothing_parameter = 0.5"
      ],
      "metadata": {
        "id": "qb-LdudHNWwC"
      },
      "execution_count": null,
      "outputs": []
    },
    {
      "cell_type": "code",
      "source": [
        "# Calculation of prior probabilities for all the three languages\n",
        "\n",
        "total_count = len(english_data + japanese_data + spanish_data)\n",
        "english_count = len(english_data)\n",
        "japanese_count = len(japanese_data)\n",
        "spanish_count = len(spanish_data)\n",
        "\n",
        "prior_probabilities = {}\n",
        "\n",
        "prior_probabilities_english = (english_count + additive_smoothing_parameter) / (total_count + additive_smoothing_parameter * 3)\n",
        "prior_probabilities_spanish = (spanish_count + additive_smoothing_parameter) / (total_count + additive_smoothing_parameter * 3)\n",
        "prior_probabilities_japanese = (japanese_count + additive_smoothing_parameter) / (total_count + additive_smoothing_parameter * 3)"
      ],
      "metadata": {
        "id": "lstJ05IIvfTj"
      },
      "execution_count": 16,
      "outputs": []
    },
    {
      "cell_type": "code",
      "source": [
        "# Print the Class Conditional Probabilities for the English Language\n",
        "\n",
        "print(\"Prior Probabilities for English Language:\", prior_probabilities_english)\n",
        "print(\"Prior Probabilities for Spanish Language:\", prior_probabilities_spanish)\n",
        "print(\"Prior Probabilities for Japanese Language:\", prior_probabilities_japanese)"
      ],
      "metadata": {
        "colab": {
          "base_uri": "https://localhost:8080/"
        },
        "id": "MWdiQCUKvg0y",
        "outputId": "ea083b2f-21d1-4bee-f08a-bf705d77116f"
      },
      "execution_count": 17,
      "outputs": [
        {
          "output_type": "stream",
          "name": "stdout",
          "text": [
            "Prior Probabilities for English Language: 0.40269411893549445\n",
            "Prior Probabilities for Spanish Language: 0.29887197459204906\n",
            "Prior Probabilities for Japanese Language: 0.2984339064724565\n"
          ]
        }
      ]
    },
    {
      "cell_type": "code",
      "source": [],
      "metadata": {
        "id": "F8lpY1H7vg5G"
      },
      "execution_count": null,
      "outputs": []
    }
  ]
}