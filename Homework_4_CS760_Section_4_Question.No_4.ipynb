{
  "nbformat": 4,
  "nbformat_minor": 0,
  "metadata": {
    "colab": {
      "provenance": [],
      "gpuType": "T4"
    },
    "kernelspec": {
      "name": "python3",
      "display_name": "Python 3"
    },
    "language_info": {
      "name": "python"
    },
    "accelerator": "GPU"
  },
  "cells": [
    {
      "cell_type": "code",
      "source": [
        "# Reference taken from:- https://github.com/udacity/deep-learning-v2-pytorch/blob/master/weight-initialization/weight_initialization_exercise.ipynb\n",
        "\n",
        "# Importing the libraries\n",
        "\n",
        "import torch\n",
        "import torch.nn as nn\n",
        "import torch.optim as optim\n",
        "from torchvision import datasets, transforms\n",
        "import numpy as np\n",
        "import matplotlib.pyplot as plt"
      ],
      "metadata": {
        "id": "CtzS12fNlEoy"
      },
      "execution_count": 1,
      "outputs": []
    },
    {
      "cell_type": "code",
      "source": [
        "# Defining a three-layer neural network\n",
        "\n",
        "class SimpleNN(nn.Module):\n",
        "    def __init__(self, d, d1, d2, k, weight_init='random'):\n",
        "        super(SimpleNN, self).__init__()\n",
        "        self.fc1 = nn.Linear(d, d1)\n",
        "        self.fc2 = nn.Linear(d1, d2)\n",
        "        self.fc3 = nn.Linear(d2, k)\n",
        "\n",
        "        # Using different weight initialization where weights initialized to 0 and randomly between -1 and 1.\n",
        "\n",
        "        if weight_init == 'zero':\n",
        "            nn.init.constant_(self.fc1.weight, 0)\n",
        "            nn.init.constant_(self.fc2.weight, 0)\n",
        "            nn.init.constant_(self.fc3.weight, 0)\n",
        "        elif weight_init == 'random':\n",
        "            nn.init.uniform_(self.fc1.weight, -1, 1)\n",
        "            nn.init.uniform_(self.fc2.weight, -1, 1)\n",
        "            nn.init.uniform_(self.fc3.weight, -1, 1)\n",
        "\n",
        "    def forward(self, x):\n",
        "        x = torch.sigmoid(self.fc1(x))\n",
        "        x = torch.sigmoid(self.fc2(x))\n",
        "        x = torch.softmax(self.fc3(x), dim=1)\n",
        "        return x"
      ],
      "metadata": {
        "id": "fZ1S_2jeZwWP"
      },
      "execution_count": 2,
      "outputs": []
    },
    {
      "cell_type": "code",
      "source": [
        "# Creating the function to train the model\n",
        "\n",
        "def train(model, train_loader, criterion, optimizer, device):\n",
        "    model.train()\n",
        "    running_loss = 0.0\n",
        "\n",
        "    for data, target in train_loader:\n",
        "        data = data.view(data.size(0), -1).to(device)\n",
        "        target = target.to(device)\n",
        "        optimizer.zero_grad()\n",
        "        output = model(data)\n",
        "        loss = criterion(output, target)\n",
        "        loss.backward()\n",
        "        optimizer.step()\n",
        "        running_loss += loss.item()\n",
        "\n",
        "    return running_loss / len(train_loader)"
      ],
      "metadata": {
        "id": "D0yA9xfzZyrG"
      },
      "execution_count": 3,
      "outputs": []
    },
    {
      "cell_type": "code",
      "source": [
        "# Creating the function for validating the model\n",
        "\n",
        "def validate(model, test_loader, criterion, device):\n",
        "    model.eval()\n",
        "    test_loss = 0\n",
        "    correct = 0\n",
        "\n",
        "    with torch.no_grad():\n",
        "        for data, target in test_loader:\n",
        "            data = data.view(data.size(0), -1).to(device)\n",
        "            target = target.to(device)\n",
        "            output = model(data)\n",
        "            test_loss += criterion(output, target).item()\n",
        "            pred = output.argmax(dim=1, keepdim=True)\n",
        "            correct += pred.eq(target.view_as(pred)).sum().item()\n",
        "\n",
        "    test_loss /= len(test_loader.dataset)\n",
        "    accuracy = 100.0 * correct / len(test_loader.dataset)\n",
        "\n",
        "    return test_loss, accuracy"
      ],
      "metadata": {
        "id": "K4dKWvb7Z4-j"
      },
      "execution_count": 4,
      "outputs": []
    },
    {
      "cell_type": "code",
      "source": [
        "# Setting the hyperparameters for the neural networks\n",
        "\n",
        "d = 784  # The Input dimension will be based on the size of the input which is 28 in this case\n",
        "d1 = 300 # As specified in the problem\n",
        "d2 = 200 # As specified in the problem\n",
        "k = 10\n",
        "learning_rate = 0.01\n",
        "num_epochs = 5\n",
        "batch_size = 64\n",
        "\n",
        "# Checking if the GPU is available or not\n",
        "\n",
        "device = 'cuda' if torch.cuda.is_available() else 'cpu'\n",
        "\n",
        "# Loading the MNIST dataset and Creating the Data Loaders\n",
        "\n",
        "transform = transforms.Compose([transforms.ToTensor(), transforms.Normalize((0.5,), (0.5,))])\n",
        "train_dataset = datasets.MNIST('data', train=True, download=True, transform=transform)\n",
        "test_dataset = datasets.MNIST('data', train=False, download=True, transform=transform)\n",
        "\n",
        "train_loader = torch.utils.data.DataLoader(train_dataset, batch_size=batch_size, shuffle=True)\n",
        "test_loader = torch.utils.data.DataLoader(test_dataset, batch_size=batch_size, shuffle=False)"
      ],
      "metadata": {
        "id": "b0QYAywnZ9W6"
      },
      "execution_count": 5,
      "outputs": []
    },
    {
      "cell_type": "code",
      "source": [
        "# Initialize with different weight initialization methods\n",
        "\n",
        "results = {}\n",
        "\n",
        "# Using the two conditions given in the question for weight initialization\n",
        "\n",
        "for weight_init in ['zero', 'random']:\n",
        "    model = SimpleNN(d, d1, d2, k, weight_init).to(device)\n",
        "    criterion = nn.CrossEntropyLoss()\n",
        "    optimizer = optim.SGD(model.parameters(), lr=learning_rate)\n",
        "\n",
        "    train_losses = []\n",
        "    test_losses = []\n",
        "    test_accuracies = []\n",
        "\n",
        "    for epoch in range(num_epochs):\n",
        "        train_loss = train(model, train_loader, criterion, optimizer, device)\n",
        "        test_loss, test_accuracy = validate(model, test_loader, criterion, device)\n",
        "\n",
        "        train_losses.append(train_loss)\n",
        "        test_losses.append(test_loss)\n",
        "        test_accuracies.append(test_accuracy)\n",
        "\n",
        "        print(f\"Initialization: {weight_init}, Epoch [{epoch + 1}/{num_epochs}] - \"\n",
        "              f\"Train Loss: {train_loss:.4f}, \"\n",
        "              f\"Test Loss: {test_loss:.4f}, \"\n",
        "              f\"Test Accuracy: {test_accuracy:.2f}%\")\n",
        "\n",
        "    results[weight_init] = {\n",
        "        'train_losses': train_losses,\n",
        "        'test_losses': test_losses,\n",
        "        'test_accuracies': test_accuracies\n",
        "    }\n",
        "\n",
        "# Plot\n",
        "\n",
        "plt.figure(figsize=(10, 5))\n",
        "\n",
        "for weight_init, data in results.items():\n",
        "    plt.plot(data['test_losses'], label=f'Test Loss ({weight_init} init)')\n",
        "\n",
        "plt.xlabel('Epoch')\n",
        "plt.ylabel('Test Loss')\n",
        "plt.legend()\n",
        "plt.show()"
      ],
      "metadata": {
        "colab": {
          "base_uri": "https://localhost:8080/",
          "height": 644
        },
        "id": "thBe1mHuXaw4",
        "outputId": "4539739d-81f7-46c6-892b-324b9274d242"
      },
      "execution_count": 6,
      "outputs": [
        {
          "output_type": "stream",
          "name": "stdout",
          "text": [
            "Initialization: zero, Epoch [1/5] - Train Loss: 2.3021, Test Loss: 0.0361, Test Accuracy: 11.35%\n",
            "Initialization: zero, Epoch [2/5] - Train Loss: 2.3015, Test Loss: 0.0361, Test Accuracy: 11.35%\n",
            "Initialization: zero, Epoch [3/5] - Train Loss: 2.3013, Test Loss: 0.0361, Test Accuracy: 11.35%\n",
            "Initialization: zero, Epoch [4/5] - Train Loss: 2.3013, Test Loss: 0.0361, Test Accuracy: 11.35%\n",
            "Initialization: zero, Epoch [5/5] - Train Loss: 2.3013, Test Loss: 0.0361, Test Accuracy: 11.35%\n",
            "Initialization: random, Epoch [1/5] - Train Loss: 2.3164, Test Loss: 0.0360, Test Accuracy: 14.37%\n",
            "Initialization: random, Epoch [2/5] - Train Loss: 2.2377, Test Loss: 0.0346, Test Accuracy: 25.30%\n",
            "Initialization: random, Epoch [3/5] - Train Loss: 2.1981, Test Loss: 0.0343, Test Accuracy: 26.93%\n",
            "Initialization: random, Epoch [4/5] - Train Loss: 2.1800, Test Loss: 0.0340, Test Accuracy: 28.63%\n",
            "Initialization: random, Epoch [5/5] - Train Loss: 2.1606, Test Loss: 0.0337, Test Accuracy: 31.25%\n"
          ]
        },
        {
          "output_type": "display_data",
          "data": {
            "text/plain": [
              "<Figure size 1000x500 with 1 Axes>"
            ],
            "image/png": "[encoded data removed]"
          },
          "metadata": {}
        }
      ]
    },
    {
      "cell_type": "code",
      "source": [],
      "metadata": {
        "id": "PfRo50DiY4Mk"
      },
      "execution_count": null,
      "outputs": []
    }
  ]
}